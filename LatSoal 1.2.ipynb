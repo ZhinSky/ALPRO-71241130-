{
 "cells": [
  {
   "cell_type": "code",
   "execution_count": 3,
   "id": "74097d33-2cb8-450e-a5c5-a5f7fdbe30e9",
   "metadata": {},
   "outputs": [
    {
     "name": "stdout",
     "output_type": "stream",
     "text": [
      "875000 , 5.384615384615385%\n",
      "1200000 , 4.37956204379562%\n"
     ]
    }
   ],
   "source": [
    "#Variable\n",
    "emas_awal = 25\n",
    "emas_tambahan = 15\n",
    "harga_pertama = 650000\n",
    "harga_kedua = 685000\n",
    "harga_ketiga = 715000\n",
    "\n",
    "#Code\n",
    "harga_emas_1 = (emas_awal * harga_pertama)\n",
    "harga_emas_2 = (emas_awal * harga_kedua)\n",
    "harga_emas_part_2_1 = ((emas_awal + emas_tambahan) * harga_kedua)\n",
    "harga_emas_part_2_2 = ((emas_awal + emas_tambahan) * harga_ketiga)\n",
    "keuntungan_1_1 = (harga_emas_2 - harga_emas_1)\n",
    "keuntungan_1_2 = ((keuntungan_1_1 / harga_emas_1) * 100)\n",
    "keuntungan_2_1 = (harga_emas_part_2_2 - harga_emas_part_2_1)\n",
    "keuntungan_2_2 = ((keuntungan_2_1 / harga_emas_part_2_1) * 100)\n",
    "\n",
    "#Execute\n",
    "print(f\"{keuntungan_1_1} , {keuntungan_1_2}%\")\n",
    "print(f\"{keuntungan_2_1} , {keuntungan_2_2}%\")"
   ]
  },
  {
   "cell_type": "code",
   "execution_count": null,
   "id": "283f5cb2-7b59-4179-ab7f-71b96ad180e8",
   "metadata": {},
   "outputs": [],
   "source": []
  }
 ],
 "metadata": {
  "kernelspec": {
   "display_name": "Python [conda env:base] *",
   "language": "python",
   "name": "conda-base-py"
  },
  "language_info": {
   "codemirror_mode": {
    "name": "ipython",
    "version": 3
   },
   "file_extension": ".py",
   "mimetype": "text/x-python",
   "name": "python",
   "nbconvert_exporter": "python",
   "pygments_lexer": "ipython3",
   "version": "3.12.7"
  }
 },
 "nbformat": 4,
 "nbformat_minor": 5
}

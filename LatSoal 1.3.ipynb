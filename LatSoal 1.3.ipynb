{
 "cells": [
  {
   "cell_type": "code",
   "execution_count": 8,
   "id": "3722b74c-1826-438e-80be-561879fb73fc",
   "metadata": {},
   "outputs": [
    {
     "name": "stdout",
     "output_type": "stream",
     "text": [
      "7.272540897341713 Tahun\n"
     ]
    }
   ],
   "source": [
    "import math\n",
    "\n",
    "#variabel\n",
    "saldo_Erika_1 = 200000000\n",
    "target_saldo_akhir = 400000000\n",
    "bunga_per_tahun = 0.1 \n",
    "\n",
    "#code\n",
    "lama_waktu = math.log(target_saldo_akhir / saldo_Erika_1) / math.log(1 + bunga_per_tahun)\n",
    "\n",
    "#execute\n",
    "print(f\"{lama_waktu} Tahun\")\n"
   ]
  },
  {
   "cell_type": "code",
   "execution_count": null,
   "id": "4660994b-b42d-4f52-ac66-25ef734a6a37",
   "metadata": {},
   "outputs": [],
   "source": []
  }
 ],
 "metadata": {
  "kernelspec": {
   "display_name": "Python [conda env:base] *",
   "language": "python",
   "name": "conda-base-py"
  },
  "language_info": {
   "codemirror_mode": {
    "name": "ipython",
    "version": 3
   },
   "file_extension": ".py",
   "mimetype": "text/x-python",
   "name": "python",
   "nbconvert_exporter": "python",
   "pygments_lexer": "ipython3",
   "version": "3.12.7"
  }
 },
 "nbformat": 4,
 "nbformat_minor": 5
}
